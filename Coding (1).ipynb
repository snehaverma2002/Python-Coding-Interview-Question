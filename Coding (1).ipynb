{
 "cells": [
  {
   "cell_type": "markdown",
   "id": "30f7f6e3",
   "metadata": {},
   "source": [
    "### <div class=\"alert alert-info\" align=\"center\">Patterns</div>"
   ]
  },
  {
   "cell_type": "markdown",
   "id": "e73b8f6c",
   "metadata": {},
   "source": [
    "### 1"
   ]
  },
  {
   "cell_type": "code",
   "execution_count": 1,
   "id": "be3737d9",
   "metadata": {},
   "outputs": [
    {
     "name": "stdout",
     "output_type": "stream",
     "text": [
      "\n",
      "* \n",
      "* * \n",
      "* * * \n",
      "* * * * \n",
      "* * * * * \n"
     ]
    }
   ],
   "source": [
    "n=5\n",
    "for i in range(n+1):\n",
    "    print(\"* \"*i)"
   ]
  },
  {
   "cell_type": "markdown",
   "id": "0c630b86",
   "metadata": {},
   "source": [
    "### 2"
   ]
  },
  {
   "cell_type": "code",
   "execution_count": 17,
   "id": "04579cb7",
   "metadata": {},
   "outputs": [
    {
     "name": "stdout",
     "output_type": "stream",
     "text": [
      "1 \n",
      "2 3 \n",
      "4 5 6 \n",
      "7 8 9 10 \n",
      "11 12 13 14 15 \n"
     ]
    }
   ],
   "source": [
    "k=1\n",
    "n=5\n",
    "for i in range(n):\n",
    "    for j in range(i+1):\n",
    "        print(k,end=\" \")\n",
    "        k+=1\n",
    "    print()"
   ]
  },
  {
   "cell_type": "markdown",
   "id": "83f535ff",
   "metadata": {},
   "source": [
    "### 3"
   ]
  },
  {
   "cell_type": "code",
   "execution_count": 20,
   "id": "17e11ee5",
   "metadata": {},
   "outputs": [
    {
     "name": "stdout",
     "output_type": "stream",
     "text": [
      "      * \n",
      "     * * \n",
      "    * * * \n",
      "   * * * * \n",
      "  * * * * * \n",
      " * * * * * * \n"
     ]
    }
   ],
   "source": [
    "n=6\n",
    "for i in range(1,n+1):\n",
    "    print(\" \"*(n-i),\"* \"*i)"
   ]
  },
  {
   "cell_type": "markdown",
   "id": "880ce59d",
   "metadata": {},
   "source": [
    "### 4"
   ]
  },
  {
   "cell_type": "code",
   "execution_count": 42,
   "id": "8642aa2d",
   "metadata": {},
   "outputs": [
    {
     "name": "stdout",
     "output_type": "stream",
     "text": [
      "      * \n",
      "     * * \n",
      "    * * * \n",
      "   * * * * \n",
      "  * * * * * \n",
      " * * * * * * \n",
      "  * * * * * \n",
      "   * * * * \n",
      "    * * * \n",
      "     * * \n",
      "      * \n"
     ]
    }
   ],
   "source": [
    "n=6\n",
    "for i in range(1,n+1):\n",
    "    print(\" \"*(n-i),\"* \"*i)\n",
    "for i in range(1,n):\n",
    "    print(\" \"*i,\"* \"*(n-i))"
   ]
  },
  {
   "cell_type": "markdown",
   "id": "9e14c8b2",
   "metadata": {},
   "source": [
    "### 5"
   ]
  },
  {
   "cell_type": "code",
   "execution_count": 49,
   "id": "7933ce5c",
   "metadata": {},
   "outputs": [
    {
     "name": "stdout",
     "output_type": "stream",
     "text": [
      "  *********\n",
      "   *******\n",
      "    *****\n",
      "     ***\n",
      "      *\n",
      "     ***\n",
      "    *****\n",
      "   *******\n",
      "  *********\n"
     ]
    }
   ],
   "source": [
    "n=5\n",
    "k=2*n-1\n",
    "for i in range(1,n+1):\n",
    "    print(\" \"*(i),\"*\"*k)\n",
    "    k=k-2\n",
    "k=3\n",
    "for i in range(1,n):\n",
    "    print(\" \"*(n-i),\"*\"*k)\n",
    "    k=k+2"
   ]
  },
  {
   "cell_type": "markdown",
   "id": "30aa72be",
   "metadata": {},
   "source": [
    "### 6"
   ]
  },
  {
   "cell_type": "code",
   "execution_count": 80,
   "id": "d531c5be",
   "metadata": {},
   "outputs": [
    {
     "name": "stdout",
     "output_type": "stream",
     "text": [
      "*\n",
      "*  *\n",
      "*    *\n",
      "*      *\n",
      "*        *\n",
      "*          *\n",
      "*            *\n",
      "*              *\n",
      "* * * * * * * * * \n"
     ]
    }
   ],
   "source": [
    "n=9\n",
    "s=0\n",
    "for i in range(1,n+1):\n",
    "    if i==1:\n",
    "        print(\"*\")\n",
    "    elif i==n:\n",
    "        print(\"* \"*n)\n",
    "    else:\n",
    "        print(\"*\",s*\" \",\"*\")\n",
    "        s=s+2"
   ]
  },
  {
   "cell_type": "markdown",
   "id": "83a2e6ff",
   "metadata": {},
   "source": [
    "### 7"
   ]
  },
  {
   "cell_type": "code",
   "execution_count": 118,
   "id": "7503081e",
   "metadata": {},
   "outputs": [
    {
     "name": "stdout",
     "output_type": "stream",
     "text": [
      "    1\n",
      "   212\n",
      "  32123\n",
      " 4321234\n",
      "543212345\n"
     ]
    }
   ],
   "source": [
    "n=5\n",
    "for i in range(1,n+1):\n",
    "    \n",
    "    for j in range(n-i):\n",
    "        print(\" \",end=\"\")\n",
    "    k=i+1\n",
    "    for j in range(2*i-1):\n",
    "\n",
    "        if j+1<=i:\n",
    "\n",
    "            k=k-1\n",
    "            print(k,end=\"\")\n",
    "        else:\n",
    "            k=k+1\n",
    "            print(k,end=\"\")\n",
    "    print()"
   ]
  },
  {
   "cell_type": "markdown",
   "id": "fc001cb4",
   "metadata": {},
   "source": [
    "### <div class=\"alert alert-info\" align=\"center\">General Questions</div>"
   ]
  },
  {
   "cell_type": "markdown",
   "id": "ce3fc26c",
   "metadata": {},
   "source": [
    "#### 1. Prime numbers within range"
   ]
  },
  {
   "cell_type": "code",
   "execution_count": 127,
   "id": "19fe0515",
   "metadata": {},
   "outputs": [
    {
     "name": "stdout",
     "output_type": "stream",
     "text": [
      "2 3 5 7 11 13 17 19 23 29 31 37 41 43 47 53 59 61 67 71 73 79 83 89 97 \n",
      "\n",
      "total prime numbers in this range: 25\n"
     ]
    }
   ],
   "source": [
    "r1=1\n",
    "c=0\n",
    "r2=100\n",
    "def prime(n):\n",
    "    if n==1:\n",
    "        return False\n",
    "    for i in range(2,n//2+1):\n",
    "        if n%i==0:\n",
    "            return False\n",
    "    else:\n",
    "        return True\n",
    "for i in range(r1,r2):\n",
    "    if prime(i)==True:\n",
    "        c=c+1\n",
    "        print(i,end=\" \")\n",
    "print(\"\\n\")\n",
    "print(\"total prime numbers in this range:\",c)"
   ]
  },
  {
   "cell_type": "markdown",
   "id": "e45a85f0",
   "metadata": {},
   "source": [
    " #### 2. Check if a number is armstrong or not:sum of digit cubes  a number is equal to number itself"
   ]
  },
  {
   "cell_type": "code",
   "execution_count": 132,
   "id": "25af0650",
   "metadata": {},
   "outputs": [
    {
     "data": {
      "text/plain": [
       "True"
      ]
     },
     "execution_count": 132,
     "metadata": {},
     "output_type": "execute_result"
    }
   ],
   "source": [
    "n=153\n",
    "sum(list(map(lambda x:x**3,list(map(int,str(n))))))==n"
   ]
  },
  {
   "cell_type": "markdown",
   "id": "5f912547",
   "metadata": {},
   "source": [
    "#### 3. Factorial of a number"
   ]
  },
  {
   "cell_type": "code",
   "execution_count": 134,
   "id": "5a8c1413",
   "metadata": {},
   "outputs": [
    {
     "data": {
      "text/plain": [
       "120"
      ]
     },
     "execution_count": 134,
     "metadata": {},
     "output_type": "execute_result"
    }
   ],
   "source": [
    "n=5\n",
    "def fact(n):\n",
    "    if n<=0:\n",
    "        return 1\n",
    "    return n*fact(n-1)\n",
    "fact(5)"
   ]
  },
  {
   "cell_type": "markdown",
   "id": "c6af4605",
   "metadata": {},
   "source": [
    "#### 4. Reverse a number"
   ]
  },
  {
   "cell_type": "code",
   "execution_count": 136,
   "id": "0b7ef13a",
   "metadata": {},
   "outputs": [
    {
     "data": {
      "text/plain": [
       "321"
      ]
     },
     "execution_count": 136,
     "metadata": {},
     "output_type": "execute_result"
    }
   ],
   "source": [
    "n=123\n",
    "int(str(n)[::-1])"
   ]
  },
  {
   "cell_type": "markdown",
   "id": "67f5438e",
   "metadata": {},
   "source": [
    "#### 5. Sum of digits of a number"
   ]
  },
  {
   "cell_type": "code",
   "execution_count": 137,
   "id": "6dc67c76",
   "metadata": {},
   "outputs": [
    {
     "data": {
      "text/plain": [
       "6"
      ]
     },
     "execution_count": 137,
     "metadata": {},
     "output_type": "execute_result"
    }
   ],
   "source": [
    "sum(map(int,str(123)))"
   ]
  },
  {
   "cell_type": "markdown",
   "id": "f0454e29",
   "metadata": {},
   "source": [
    "#### 6. Given non-zero two integers N and M. The problem is to find the number closest to N and divisible by M. If there are more than one such number, then output the one having maximum absolute value"
   ]
  },
  {
   "cell_type": "code",
   "execution_count": 218,
   "id": "37d35904",
   "metadata": {},
   "outputs": [],
   "source": [
    "n=-15\n",
    "m=6\n",
    "if n/abs(n)==-1 or m/abs(m)==-1:\n",
    "    i=n*m\n",
    "else:\n",
    "    i=1\n",
    "d={}\n",
    "\n",
    "while True:\n",
    "    if i%m==0:\n",
    "        d[i]=abs(n-i)\n",
    "    if i==abs(m)*abs(n):\n",
    "        break\n",
    "    i=i+1\n",
    "    \n",
    "l=sorted(d.values())"
   ]
  },
  {
   "cell_type": "code",
   "execution_count": 222,
   "id": "1a77156d",
   "metadata": {},
   "outputs": [
    {
     "data": {
      "text/plain": [
       "[-18, -12]"
      ]
     },
     "execution_count": 222,
     "metadata": {},
     "output_type": "execute_result"
    }
   ],
   "source": [
    "k=[]\n",
    "for i in d:\n",
    "    if d[i]==l[0]:\n",
    "        k.append(i)\n",
    "k"
   ]
  },
  {
   "cell_type": "code",
   "execution_count": 224,
   "id": "f298a7bc",
   "metadata": {},
   "outputs": [
    {
     "data": {
      "text/plain": [
       "-18"
      ]
     },
     "execution_count": 224,
     "metadata": {},
     "output_type": "execute_result"
    }
   ],
   "source": [
    "#selecting largest number by absolute value\n",
    "max(k,key=lambda x:abs(x))"
   ]
  },
  {
   "cell_type": "markdown",
   "id": "aa578e65",
   "metadata": {},
   "source": [
    "#### 7.  Program to find if all adjacent digits of a number differs by 1"
   ]
  },
  {
   "cell_type": "code",
   "execution_count": 235,
   "id": "c299b15a",
   "metadata": {},
   "outputs": [
    {
     "name": "stdout",
     "output_type": "stream",
     "text": [
      "True\n"
     ]
    }
   ],
   "source": [
    "n=4323456\n",
    "l=list(map(int,str(n)))\n",
    "for i,ele in enumerate(l):\n",
    "    if i+1<len(l):\n",
    "        if ele+1==l[i+1] or ele-1==l[i+1]:\n",
    "            pass\n",
    "        else:\n",
    "            print(\"False\")\n",
    "            break\n",
    "else:\n",
    "    print(\"True\")       "
   ]
  },
  {
   "cell_type": "markdown",
   "id": "90ba1493",
   "metadata": {},
   "source": [
    "#### 8. Find all pairs of prime numbers (p,q) such that p*q <= n, where n is given number."
   ]
  },
  {
   "cell_type": "code",
   "execution_count": 240,
   "id": "757d10b5",
   "metadata": {},
   "outputs": [
    {
     "data": {
      "text/plain": [
       "[2, 3, 5, 7]"
      ]
     },
     "execution_count": 240,
     "metadata": {},
     "output_type": "execute_result"
    }
   ],
   "source": [
    "def prime(n):\n",
    "    if n==1:\n",
    "        return False\n",
    "    for i in range(2,n//2+1):\n",
    "        if n%i==0:\n",
    "            return False\n",
    "    else:\n",
    "        return True\n",
    "n=8\n",
    "l=[]\n",
    "for i in range(1,n+1):\n",
    "    if prime(i)==True:\n",
    "        l.append(i)\n",
    "l"
   ]
  },
  {
   "cell_type": "code",
   "execution_count": 255,
   "id": "54b12a30",
   "metadata": {},
   "outputs": [
    {
     "name": "stdout",
     "output_type": "stream",
     "text": [
      "2 2\n",
      "2 3\n",
      "3 2\n"
     ]
    }
   ],
   "source": [
    "#pair of prime numbers in l whose product =n\n",
    "for i in range(0,len(l)):\n",
    "    for j in range(0,len(l)):\n",
    "        if l[i]*l[j]<=n:\n",
    "            print(l[i],l[j])\n",
    "            "
   ]
  },
  {
   "cell_type": "markdown",
   "id": "65e28e3a",
   "metadata": {},
   "source": [
    "#### 9. fibanacci numbers till n"
   ]
  },
  {
   "cell_type": "code",
   "execution_count": 409,
   "id": "103e6e1e",
   "metadata": {},
   "outputs": [
    {
     "name": "stdout",
     "output_type": "stream",
     "text": [
      "0 1 1 2 3 5 8 13 21 "
     ]
    }
   ],
   "source": [
    "t1=0\n",
    "t2=1\n",
    "t3=1\n",
    "n=25\n",
    "print(t1,t2,end=\" \")\n",
    "while t3<=n:\n",
    "    print(t3,end=\" \")\n",
    "    t1=t2\n",
    "    t2=t3\n",
    "    t3=t1+t2"
   ]
  },
  {
   "cell_type": "markdown",
   "id": "4f685d00",
   "metadata": {},
   "source": [
    "### <div class=\"alert alert-info\" align=\"center\">List</div>"
   ]
  },
  {
   "cell_type": "markdown",
   "id": "3bc0b1ac",
   "metadata": {},
   "source": [
    "#### 1. product of all elements in list"
   ]
  },
  {
   "cell_type": "code",
   "execution_count": 256,
   "id": "e6c2383b",
   "metadata": {},
   "outputs": [
    {
     "data": {
      "text/plain": [
       "24"
      ]
     },
     "execution_count": 256,
     "metadata": {},
     "output_type": "execute_result"
    }
   ],
   "source": [
    "l=[4,2,3]\n",
    "m=1\n",
    "for i in l:\n",
    "    m=m*i\n",
    "m"
   ]
  },
  {
   "cell_type": "markdown",
   "id": "fbc259b7",
   "metadata": {},
   "source": [
    "#### 2. find index of 5 largest elements in a list"
   ]
  },
  {
   "cell_type": "code",
   "execution_count": 264,
   "id": "cecfbeca",
   "metadata": {},
   "outputs": [
    {
     "name": "stdout",
     "output_type": "stream",
     "text": [
      "12 5\n",
      "11 4\n",
      "9 3\n",
      "6 2\n",
      "5 1\n"
     ]
    }
   ],
   "source": [
    "l=[2,5,6,9,11,12,4]\n",
    "s=sorted(l,reverse=True)[:5]\n",
    "for i in s:\n",
    "    print(i,l.index(i))"
   ]
  },
  {
   "cell_type": "markdown",
   "id": "3a769311",
   "metadata": {},
   "source": [
    "#### 3. Count of elements of list whose length is >=2 and whose first and last characters are same"
   ]
  },
  {
   "cell_type": "code",
   "execution_count": 271,
   "id": "b347ed5c",
   "metadata": {},
   "outputs": [
    {
     "name": "stdout",
     "output_type": "stream",
     "text": [
      "aba\n",
      "1221\n",
      "count: 2\n"
     ]
    }
   ],
   "source": [
    "l=['abc', 'xyz', 'aba', '1221']\n",
    "c=0\n",
    "for i in l:\n",
    "    if len(i)>=2 and i[0]==i[-1]:\n",
    "        print(i)\n",
    "        c=c+1\n",
    "print(\"count:\",c)"
   ]
  },
  {
   "cell_type": "markdown",
   "id": "6dbb166a",
   "metadata": {},
   "source": [
    "#### 4. Sort based on key"
   ]
  },
  {
   "cell_type": "code",
   "execution_count": 272,
   "id": "f75a4dbf",
   "metadata": {},
   "outputs": [
    {
     "data": {
      "text/plain": [
       "[('qw', 1), ('sd', 2), ('aa', 3), ('rt', 8)]"
      ]
     },
     "execution_count": 272,
     "metadata": {},
     "output_type": "execute_result"
    }
   ],
   "source": [
    "l=[(\"aa\",3),(\"sd\",2),(\"rt\",8),(\"qw\",1)]\n",
    "sorted(l,key=lambda x:x[1])"
   ]
  },
  {
   "cell_type": "markdown",
   "id": "1aa5e83a",
   "metadata": {},
   "source": [
    "#### 5. Remove duplicate from strings"
   ]
  },
  {
   "cell_type": "code",
   "execution_count": 279,
   "id": "1ae9f471",
   "metadata": {},
   "outputs": [
    {
     "data": {
      "text/plain": [
       "[5, 3, 1, 2, 4, 6]"
      ]
     },
     "execution_count": 279,
     "metadata": {},
     "output_type": "execute_result"
    }
   ],
   "source": [
    "l=[5,3,1,1,2,3,2,4,5,6]\n",
    "list(dict.fromkeys(l).keys())"
   ]
  },
  {
   "cell_type": "markdown",
   "id": "57841603",
   "metadata": {},
   "source": [
    "#### 6. Python function that takes two lists and returns True if they have at least one common member"
   ]
  },
  {
   "cell_type": "code",
   "execution_count": 288,
   "id": "fa59a2d6",
   "metadata": {},
   "outputs": [
    {
     "name": "stdout",
     "output_type": "stream",
     "text": [
      "False\n"
     ]
    }
   ],
   "source": [
    "l1=[1,2,3,4]\n",
    "l2=[9,5,6,7]\n",
    "for i in l1+l2:\n",
    "    if (i in l1 and i in l2):\n",
    "        print(\"yes\")\n",
    "        break\n",
    "else:\n",
    "    print(\"False\")"
   ]
  },
  {
   "cell_type": "markdown",
   "id": "52d66d19",
   "metadata": {},
   "source": [
    "#### 7. program to print the numbers of a specified list after removing even numbers from it"
   ]
  },
  {
   "cell_type": "code",
   "execution_count": 290,
   "id": "9a93cecd",
   "metadata": {},
   "outputs": [
    {
     "data": {
      "text/plain": [
       "[1, 3, 5, 7, 9]"
      ]
     },
     "execution_count": 290,
     "metadata": {},
     "output_type": "execute_result"
    }
   ],
   "source": [
    "#using filter\n",
    "l=[1,2,3,4,5,6,7,8,9]\n",
    "list(filter(lambda x:x%2==1,l))"
   ]
  },
  {
   "cell_type": "code",
   "execution_count": 291,
   "id": "56e442a4",
   "metadata": {},
   "outputs": [
    {
     "data": {
      "text/plain": [
       "[1, 3, 5, 7, 9]"
      ]
     },
     "execution_count": 291,
     "metadata": {},
     "output_type": "execute_result"
    }
   ],
   "source": [
    "#using list comprehension\n",
    "[i for i in l if i%2!=0]"
   ]
  },
  {
   "cell_type": "code",
   "execution_count": 299,
   "id": "96efbbb9",
   "metadata": {},
   "outputs": [
    {
     "data": {
      "text/plain": [
       "[1, 3, 5, 7, 9]"
      ]
     },
     "execution_count": 299,
     "metadata": {},
     "output_type": "execute_result"
    }
   ],
   "source": [
    "l=[1,2,3,4,5,6,7,8,9]\n",
    "for i in l:\n",
    "    if i%2==0:\n",
    "        l.remove(i)\n",
    "l"
   ]
  },
  {
   "cell_type": "markdown",
   "id": "cb5d26ce",
   "metadata": {},
   "source": [
    "#### 8.  program to generate all permutations of a list in Python"
   ]
  },
  {
   "cell_type": "code",
   "execution_count": 298,
   "id": "30d3c38d",
   "metadata": {},
   "outputs": [
    {
     "data": {
      "text/plain": [
       "[(1, 2, 3), (1, 3, 2), (2, 1, 3), (2, 3, 1), (3, 1, 2), (3, 2, 1)]"
      ]
     },
     "execution_count": 298,
     "metadata": {},
     "output_type": "execute_result"
    }
   ],
   "source": [
    "l=[1,2,3]\n",
    "import itertools\n",
    "list(itertools.permutations(l))"
   ]
  },
  {
   "cell_type": "markdown",
   "id": "f378b338",
   "metadata": {},
   "source": [
    "#### 9. difference between the two lists"
   ]
  },
  {
   "cell_type": "code",
   "execution_count": 301,
   "id": "07edefbf",
   "metadata": {},
   "outputs": [
    {
     "data": {
      "text/plain": [
       "[-3, 0, 3]"
      ]
     },
     "execution_count": 301,
     "metadata": {},
     "output_type": "execute_result"
    }
   ],
   "source": [
    "l1=[1,5,9]\n",
    "l2=[4,5,6]\n",
    "[i-j for i,j in zip(l1,l2)]"
   ]
  },
  {
   "cell_type": "markdown",
   "id": "28df26e6",
   "metadata": {},
   "source": [
    "#### 10. program to find the second smallest number in a list"
   ]
  },
  {
   "cell_type": "code",
   "execution_count": 304,
   "id": "c967b4a0",
   "metadata": {},
   "outputs": [
    {
     "name": "stdout",
     "output_type": "stream",
     "text": [
      "2\n"
     ]
    }
   ],
   "source": [
    "l=[1,1,2,3,4,5]\n",
    "small=min(l)\n",
    "for i in sorted(l):\n",
    "    if i !=small:\n",
    "        print(i)\n",
    "        break"
   ]
  },
  {
   "cell_type": "code",
   "execution_count": 313,
   "id": "12156080",
   "metadata": {},
   "outputs": [
    {
     "data": {
      "text/plain": [
       "2"
      ]
     },
     "execution_count": 313,
     "metadata": {},
     "output_type": "execute_result"
    }
   ],
   "source": [
    "l=[1,1,2,3,4,5]\n",
    "l=list(set(l))\n",
    "l.sort()\n",
    "l[1]"
   ]
  },
  {
   "cell_type": "markdown",
   "id": "6f16aaba",
   "metadata": {},
   "source": [
    "#### 11. count of all elements in a list"
   ]
  },
  {
   "cell_type": "code",
   "execution_count": 317,
   "id": "cebd7b2f",
   "metadata": {},
   "outputs": [
    {
     "data": {
      "text/plain": [
       "{1: 3, 2: 2, 3: 1, 4: 1, 5: 1, 6: 1}"
      ]
     },
     "execution_count": 317,
     "metadata": {},
     "output_type": "execute_result"
    }
   ],
   "source": [
    "l=[1,1,1,2,2,3,4,5,6]\n",
    "{i:l.count(i) for i in l}"
   ]
  },
  {
   "cell_type": "markdown",
   "id": "d9b8cdd1",
   "metadata": {},
   "source": [
    "#### 12. list contain sublist or not in continuos manner: l=[1,2,3,4,5,6] and sublist=[1,3] , then false"
   ]
  },
  {
   "cell_type": "code",
   "execution_count": 331,
   "id": "b32d1d95",
   "metadata": {},
   "outputs": [
    {
     "name": "stdout",
     "output_type": "stream",
     "text": [
      "[[1, 2], [2, 3], [3, 4], [4, 5], [5, 6], [6]]\n",
      "True\n"
     ]
    }
   ],
   "source": [
    "l=[1,2,3,4,5,6]\n",
    "sub=[2,3]\n",
    "a=[l[i:i+2] for i in range(len(l))]\n",
    "print(a)\n",
    "print(sub in a)"
   ]
  },
  {
   "cell_type": "markdown",
   "id": "7e448a66",
   "metadata": {},
   "source": [
    "####  13. create a list by concatenating a given list with a range from 1 to n"
   ]
  },
  {
   "cell_type": "code",
   "execution_count": 333,
   "id": "98a51831",
   "metadata": {},
   "outputs": [
    {
     "data": {
      "text/plain": [
       "['p1', 'p2', 'p3', 'p4', 'p5', 'q1', 'q2', 'q3', 'q4', 'q5']"
      ]
     },
     "execution_count": 333,
     "metadata": {},
     "output_type": "execute_result"
    }
   ],
   "source": [
    "l=[\"p\",\"q\"]\n",
    "n=5\n",
    "k=[]\n",
    "for i in l:\n",
    "    for j in range(1,n+1):\n",
    "        k.append(i+str(j))\n",
    "k"
   ]
  },
  {
   "cell_type": "markdown",
   "id": "16ce257e",
   "metadata": {},
   "source": [
    "#### 14. find common items in two lists"
   ]
  },
  {
   "cell_type": "code",
   "execution_count": 335,
   "id": "cebda908",
   "metadata": {},
   "outputs": [
    {
     "name": "stdout",
     "output_type": "stream",
     "text": [
      "1\n",
      "5\n"
     ]
    }
   ],
   "source": [
    "l=[1,2,3,5]\n",
    "l2=[4,4,5,1]\n",
    "for i in l:\n",
    "    if i in l2:\n",
    "        print(i)"
   ]
  },
  {
   "cell_type": "markdown",
   "id": "98be4f2f",
   "metadata": {},
   "source": [
    "#### 15. insert an element before each element of a list"
   ]
  },
  {
   "cell_type": "code",
   "execution_count": 336,
   "id": "fe486eb9",
   "metadata": {},
   "outputs": [
    {
     "data": {
      "text/plain": [
       "['a', 1, 'a', 2, 'a', 3, 'a', 4, 'a', 5]"
      ]
     },
     "execution_count": 336,
     "metadata": {},
     "output_type": "execute_result"
    }
   ],
   "source": [
    "n=\"a\"\n",
    "l=[1,2,3,4,5]\n",
    "for i in range(2*len(l)):\n",
    "    if i%2==0:\n",
    "        l.insert(i,n)\n",
    "l"
   ]
  },
  {
   "cell_type": "markdown",
   "id": "3d1efde7",
   "metadata": {},
   "source": [
    "#### 16. split a list every nth element"
   ]
  },
  {
   "cell_type": "code",
   "execution_count": 359,
   "id": "0fa5692e",
   "metadata": {},
   "outputs": [
    {
     "data": {
      "text/plain": [
       "[[1, 4, 7], [2, 5, 8], [3, 6, 9], [4, 7], [5, 8], [6, 9], [7], [8], [9]]"
      ]
     },
     "execution_count": 359,
     "metadata": {},
     "output_type": "execute_result"
    }
   ],
   "source": [
    "l=[1,2,3,4,5,6,7,8,9]\n",
    "n=3\n",
    "[l[i::n] for i in range(0,len(l))]"
   ]
  },
  {
   "cell_type": "markdown",
   "id": "813176a5",
   "metadata": {},
   "source": [
    "#### 17. remove elements of a list l1 which are  in l2"
   ]
  },
  {
   "cell_type": "code",
   "execution_count": 370,
   "id": "8ac18deb",
   "metadata": {},
   "outputs": [
    {
     "data": {
      "text/plain": [
       "[2, 4, 5, 6]"
      ]
     },
     "execution_count": 370,
     "metadata": {},
     "output_type": "execute_result"
    }
   ],
   "source": [
    "l1=[1,2,3,4,5,6,1,2]\n",
    "l=list(set(l1))\n",
    "l2=[1,2,3]\n",
    "for i in l:\n",
    "    if i in l2:\n",
    "        l.remove(i)\n",
    "l"
   ]
  },
  {
   "cell_type": "markdown",
   "id": "68898849",
   "metadata": {},
   "source": [
    "#### 18.  move all x to the starting of the list"
   ]
  },
  {
   "cell_type": "code",
   "execution_count": 377,
   "id": "38c342e9",
   "metadata": {},
   "outputs": [
    {
     "data": {
      "text/plain": [
       "[4, 4, 1, 6, 7, 3, 0]"
      ]
     },
     "execution_count": 377,
     "metadata": {},
     "output_type": "execute_result"
    }
   ],
   "source": [
    "x=4\n",
    "l=[1,6,7,4,3,0,4]\n",
    "for i in range(len(l)):\n",
    "    if l[i]==x:\n",
    "        l.insert(0,x)\n",
    "        l.pop(i+1)\n",
    "l"
   ]
  },
  {
   "cell_type": "markdown",
   "id": "1db55708",
   "metadata": {},
   "source": [
    "#### 19.  remove consecutive duplicates"
   ]
  },
  {
   "cell_type": "code",
   "execution_count": 388,
   "id": "8523cfe6",
   "metadata": {},
   "outputs": [
    {
     "data": {
      "text/plain": [
       "[7, 4, 1, 2, 3, 2, 1, 4, 9]"
      ]
     },
     "execution_count": 388,
     "metadata": {},
     "output_type": "execute_result"
    }
   ],
   "source": [
    "l=[7,4,1,1,2,3,2,1,4,4,9,9,9]\n",
    "for i in range(len(l)-1):\n",
    "    if l[i]==l[i+1]:\n",
    "        l[i]=\"\"\n",
    "[i for i in l if i!=\"\"]"
   ]
  },
  {
   "cell_type": "markdown",
   "id": "8a3b1117",
   "metadata": {},
   "source": [
    "#### 20. most occuring item in the list\n"
   ]
  },
  {
   "cell_type": "code",
   "execution_count": 403,
   "id": "b3c5d5c8",
   "metadata": {},
   "outputs": [
    {
     "name": "stdout",
     "output_type": "stream",
     "text": [
      "{7: 1, 4: 3, 1: 3, 2: 2, 3: 1, 9: 3}\n",
      "4\n",
      "1\n",
      "9\n"
     ]
    }
   ],
   "source": [
    "l=[7,4,1,1,2,3,2,1,4,4,9,9,9]\n",
    "d={i:l.count(i) for i in l}\n",
    "print(d)\n",
    "for i in d:\n",
    "    if d[i]==max(d.values()):\n",
    "        print(i)"
   ]
  },
  {
   "cell_type": "markdown",
   "id": "1687c58c",
   "metadata": {},
   "source": [
    "#### 21. all indexes of most repeating elements"
   ]
  },
  {
   "cell_type": "code",
   "execution_count": 458,
   "id": "569d27c3",
   "metadata": {},
   "outputs": [
    {
     "name": "stdout",
     "output_type": "stream",
     "text": [
      "{7: [1, 7, 9]}\n",
      "{3: [3, 5, 8]}\n"
     ]
    }
   ],
   "source": [
    "l=[9,7,8,3,1,3,2,7,3,7]\n",
    "d={i:l.count(i) for i in l}           #dictionary of count of elements\n",
    "r=[i for i in d if d[i]==max(d.values())]    #most repeating elements\n",
    "for j in r:\n",
    "    print({j:[i for i in range(len(l)) if l[i]==j]})  # index of elements"
   ]
  },
  {
   "cell_type": "code",
   "execution_count": 459,
   "id": "24779aa1",
   "metadata": {},
   "outputs": [
    {
     "data": {
      "text/plain": [
       "[0, 3]"
      ]
     },
     "execution_count": 459,
     "metadata": {},
     "output_type": "execute_result"
    }
   ],
   "source": [
    "#demo:\n",
    "#since index gives only index of first occurence do this\n",
    "#index of 1\n",
    "l=[1,2,3,1]\n",
    "[i for i in range(len(l)) if l[i]==1]"
   ]
  },
  {
   "cell_type": "markdown",
   "id": "976949fd",
   "metadata": {},
   "source": [
    "#### 22. maximum and minimum product of pairs of tuples within a given list."
   ]
  },
  {
   "cell_type": "code",
   "execution_count": 447,
   "id": "aa179162",
   "metadata": {},
   "outputs": [
    {
     "name": "stdout",
     "output_type": "stream",
     "text": [
      "[(6, 5), (30, 1)] \n",
      " [(1, 2), (2, 1)]\n"
     ]
    }
   ],
   "source": [
    "l=[(1,2),(6,5),(3,8),(2,5),(3,6),(30,1),(2,1)]\n",
    "p=list(map(lambda x:x[0]*x[1],l))\n",
    "max_ind=[i for i in range(len(p)) if p[i]==max(p)]\n",
    "min_ind=[i for i in range(len(p)) if p[i]==min(p)]\n",
    "print([l[i] for i in max_ind],\"\\n\",[l[i] for i in min_ind])"
   ]
  },
  {
   "cell_type": "markdown",
   "id": "1557f70c",
   "metadata": {},
   "source": [
    "#### 22. swap elements in index n and m"
   ]
  },
  {
   "cell_type": "code",
   "execution_count": 463,
   "id": "3fdc880d",
   "metadata": {},
   "outputs": [
    {
     "data": {
      "text/plain": [
       "[10, 20, 50, 40, 30, 60, 70]"
      ]
     },
     "execution_count": 463,
     "metadata": {},
     "output_type": "execute_result"
    }
   ],
   "source": [
    "l=[10,20,30,40,50,60,70]\n",
    "n=2\n",
    "m=4\n",
    "l[m],l[n]=l[n],l[m]\n",
    "l"
   ]
  },
  {
   "cell_type": "markdown",
   "id": "2b08ca02",
   "metadata": {},
   "source": [
    "#### 23. push all the strings at the end of the list"
   ]
  },
  {
   "cell_type": "code",
   "execution_count": 498,
   "id": "895c6385",
   "metadata": {},
   "outputs": [
    {
     "data": {
      "text/plain": [
       "[1, 2, 5, 'x', 'a', 'b', 'c']"
      ]
     },
     "execution_count": 498,
     "metadata": {},
     "output_type": "execute_result"
    }
   ],
   "source": [
    "l=[1,\"x\",\"a\",2,\"b\",5,\"c\"]\n",
    "s=[]\n",
    "for i in range(len(l)):\n",
    "    if type(l[i])==str:\n",
    "        s.append(l[i])\n",
    "        l[i]=\"\"\n",
    "[i for i in l if i!=\"\"]+s"
   ]
  },
  {
   "cell_type": "markdown",
   "id": "e8f680d5",
   "metadata": {},
   "source": [
    "#### 24. create the largest possible number using the elements of a given list of positive integers."
   ]
  },
  {
   "cell_type": "code",
   "execution_count": 516,
   "id": "798274da",
   "metadata": {},
   "outputs": [
    {
     "name": "stdout",
     "output_type": "stream",
     "text": [
      "6054854654\n"
     ]
    }
   ],
   "source": [
    "def largestNumber(array):\n",
    "    #If there is only one element in the list, the element itself is the largest element.\n",
    "    if len(array)==1:\n",
    "        return str(array[0])\n",
    "    #First, we convert a list into a string array that is suitable for concatenation\n",
    "    for i in range(len(array)):\n",
    "        array[i]=str(array[i])\n",
    "    # [54,546,548,60]=>['54','546','548','60']\n",
    "    #Second, we find the largest element by swapping technique.\n",
    "    for i in range(len(array)):\n",
    "        for j in range(1+i,len(array)):\n",
    "            if array[j]+array[i]>array[i]+array[j]:\n",
    "                array[i],array[j]=array[j],array[i]\n",
    "    #['60', '548', '546', '54']\n",
    " \n",
    "    result=''.join(array)\n",
    "    #Edge Case: If all elements are 0, answer must be 0\n",
    "    if(result=='0'*len(result)):\n",
    "        return '0'\n",
    "    else:\n",
    "        return result\n",
    "\n",
    "if __name__ == \"__main__\":\n",
    "    a = [54, 546, 548, 60]\n",
    "    print(largestNumber(a))\n"
   ]
  },
  {
   "cell_type": "markdown",
   "id": "4160266d",
   "metadata": {},
   "source": [
    "#### 25. calculate the largest and smallest gap between sorted elements of a list of integers."
   ]
  },
  {
   "cell_type": "code",
   "execution_count": 534,
   "id": "df122d6c",
   "metadata": {},
   "outputs": [
    {
     "data": {
      "text/plain": [
       "([45, 89], [1, 2])"
      ]
     },
     "execution_count": 534,
     "metadata": {},
     "output_type": "execute_result"
    }
   ],
   "source": [
    "l=[1,3,2,89,45,22]\n",
    "l.sort()\n",
    "bi=[l[i:i+2] for i in range(len(l)-1)]  #bigram elements of list\n",
    "diff=list(map(lambda x:abs(x[0]-x[1]),bi)) # difference list\n",
    "max_index=diff.index(max(diff))  #index of max difference \n",
    "min_index=diff.index(min(diff))\n",
    "bi[max_index],bi[min_index]"
   ]
  },
  {
   "cell_type": "markdown",
   "id": "60dd9b14",
   "metadata": {},
   "source": [
    "#### 26. Right shift elements by 2"
   ]
  },
  {
   "cell_type": "code",
   "execution_count": 559,
   "id": "d1f99e5c",
   "metadata": {},
   "outputs": [
    {
     "data": {
      "text/plain": [
       "[60, 70, 10, 20, 30, 40, 50]"
      ]
     },
     "execution_count": 559,
     "metadata": {},
     "output_type": "execute_result"
    }
   ],
   "source": [
    "l=[10,20,30,40,50,60,70]\n",
    "l[-2:]+l[0:-2]"
   ]
  },
  {
   "cell_type": "markdown",
   "id": "17affb21",
   "metadata": {},
   "source": [
    "#### 27. cumulative sum of elements in list"
   ]
  },
  {
   "cell_type": "code",
   "execution_count": 561,
   "id": "c4cca270",
   "metadata": {},
   "outputs": [
    {
     "data": {
      "text/plain": [
       "[10, 30, 60, 100, 150, 210, 280]"
      ]
     },
     "execution_count": 561,
     "metadata": {},
     "output_type": "execute_result"
    }
   ],
   "source": [
    "l=[10,20,30,40,50,60,70]\n",
    "cum=[]\n",
    "for i in range(len(l)):\n",
    "    cum.append(sum(l[0:i+1]))\n",
    "cum"
   ]
  },
  {
   "cell_type": "markdown",
   "id": "fd46d8ba",
   "metadata": {},
   "source": [
    "#### 28. square and cube of elements of list"
   ]
  },
  {
   "cell_type": "code",
   "execution_count": 572,
   "id": "7c4d3106",
   "metadata": {},
   "outputs": [
    {
     "data": {
      "text/plain": [
       "[(100, 1000), (400, 8000), (900, 27000)]"
      ]
     },
     "execution_count": 572,
     "metadata": {},
     "output_type": "execute_result"
    }
   ],
   "source": [
    "l=[10,20,30]\n",
    "list(map(lambda x:(x**2,x**3),l))"
   ]
  },
  {
   "cell_type": "markdown",
   "id": "cc593f58",
   "metadata": {},
   "source": [
    "#### 29. elements of list starting with a"
   ]
  },
  {
   "cell_type": "code",
   "execution_count": 567,
   "id": "57b7d952",
   "metadata": {},
   "outputs": [
    {
     "data": {
      "text/plain": [
       "['asa', 'awee']"
      ]
     },
     "execution_count": 567,
     "metadata": {},
     "output_type": "execute_result"
    }
   ],
   "source": [
    "l=[\"asa\",\"awee\",\"ert\",\"yty\"]\n",
    "list(filter(lambda x:x.startswith(\"a\"),l))"
   ]
  },
  {
   "cell_type": "markdown",
   "id": "8922288d",
   "metadata": {},
   "source": [
    "#### 30. if element is a number "
   ]
  },
  {
   "cell_type": "code",
   "execution_count": 581,
   "id": "3bd73a2b",
   "metadata": {},
   "outputs": [
    {
     "data": {
      "text/plain": [
       "['121', '45']"
      ]
     },
     "execution_count": 581,
     "metadata": {},
     "output_type": "execute_result"
    }
   ],
   "source": [
    "l=[\"aa\",\"sad\",\"sdc\",\"121\",\"783s\",\"45\"]\n",
    "list(filter(lambda x:x.isdigit(),l))"
   ]
  },
  {
   "cell_type": "markdown",
   "id": "e18a5295",
   "metadata": {},
   "source": [
    "#### 31. intersection of two lists using lambda "
   ]
  },
  {
   "cell_type": "code",
   "execution_count": 593,
   "id": "533bcac7",
   "metadata": {},
   "outputs": [
    {
     "data": {
      "text/plain": [
       "[4, 6, 7]"
      ]
     },
     "execution_count": 593,
     "metadata": {},
     "output_type": "execute_result"
    }
   ],
   "source": [
    "l1=[6,1,2,3,4,7]\n",
    "l2=[4,5,6,7]\n",
    "list(filter(lambda x:x in l1,l2))"
   ]
  },
  {
   "cell_type": "markdown",
   "id": "762f5092",
   "metadata": {},
   "source": [
    "#### 32. separate positive and negative numbers"
   ]
  },
  {
   "cell_type": "code",
   "execution_count": 594,
   "id": "cae6cf39",
   "metadata": {},
   "outputs": [
    {
     "data": {
      "text/plain": [
       "[-1, -8, 2, 4, 3]"
      ]
     },
     "execution_count": 594,
     "metadata": {},
     "output_type": "execute_result"
    }
   ],
   "source": [
    "l=[-1,2,-8,4,3]\n",
    "list(filter(lambda x:x<0,l))+list(filter(lambda x:x>=0,l))"
   ]
  },
  {
   "cell_type": "markdown",
   "id": "04bf9048",
   "metadata": {},
   "source": [
    "#### 33. count of even and odd numbers"
   ]
  },
  {
   "cell_type": "code",
   "execution_count": 601,
   "id": "10200373",
   "metadata": {},
   "outputs": [
    {
     "data": {
      "text/plain": [
       "(4, 5)"
      ]
     },
     "execution_count": 601,
     "metadata": {},
     "output_type": "execute_result"
    }
   ],
   "source": [
    "l=[1,2,3,4,5,6,7,8,9]\n",
    "even=len(list(filter(lambda x:x%2==0,l)))\n",
    "odd=len(l)-even\n",
    "even,odd"
   ]
  },
  {
   "cell_type": "markdown",
   "id": "6501b127",
   "metadata": {},
   "source": [
    "#### 34. add two lists"
   ]
  },
  {
   "cell_type": "code",
   "execution_count": 607,
   "id": "f31f13d6",
   "metadata": {},
   "outputs": [
    {
     "data": {
      "text/plain": [
       "[10, 6, 8, 10]"
      ]
     },
     "execution_count": 607,
     "metadata": {},
     "output_type": "execute_result"
    }
   ],
   "source": [
    "l1=[6,1,2,3,4,7]\n",
    "l2=[4,5,6,7]\n",
    "#list(map(lambda x:x[0]+x[1],zip(l1,l2)))\n",
    "#or\n",
    "list(map(lambda x,y:x+y,l1,l2))"
   ]
  },
  {
   "cell_type": "markdown",
   "id": "ca04ccb2",
   "metadata": {},
   "source": [
    "#### 35.longest possible continous sequence of numbers from the given list"
   ]
  },
  {
   "cell_type": "code",
   "execution_count": 631,
   "id": "b636da6a",
   "metadata": {},
   "outputs": [
    {
     "data": {
      "text/plain": [
       "[1, 2, 3, 5, 6, 8, 9, 10, 11, 12, 16, 20, 25]"
      ]
     },
     "execution_count": 631,
     "metadata": {},
     "output_type": "execute_result"
    }
   ],
   "source": [
    "l=[2,6,12,9,16,10,5,3,20,25,11,1,8]\n",
    "l.sort()\n",
    "d=dict.fromkeys(l,1)\n",
    "l"
   ]
  },
  {
   "cell_type": "code",
   "execution_count": 639,
   "id": "f4427b94",
   "metadata": {},
   "outputs": [
    {
     "name": "stdout",
     "output_type": "stream",
     "text": [
      "{1: 3, 2: 1, 3: 1, 5: 2, 6: 1, 8: 5, 9: 1, 10: 1, 11: 1, 12: 1, 16: 1, 20: 1, 25: 1}\n",
      "5\n"
     ]
    }
   ],
   "source": [
    "ele=l[0]\n",
    "for i in range(len(l)-1):\n",
    "    if (l[i]+1)==(l[i+1]):\n",
    "        d[ele]+=1\n",
    "    else:\n",
    "        ele=l[i+1]\n",
    "print(d)\n",
    "print(max(d.values()))"
   ]
  },
  {
   "cell_type": "markdown",
   "id": "c16c8c23",
   "metadata": {},
   "source": [
    "#### 36. count palindromes in a list"
   ]
  },
  {
   "cell_type": "code",
   "execution_count": 637,
   "id": "9fcb5f9a",
   "metadata": {},
   "outputs": [
    {
     "data": {
      "text/plain": [
       "3"
      ]
     },
     "execution_count": 637,
     "metadata": {},
     "output_type": "execute_result"
    }
   ],
   "source": [
    "l=[123,454,676,989,433]\n",
    "c=0\n",
    "def palindrome(n):\n",
    "    n=str(n)\n",
    "    r=n[::-1]\n",
    "    if r==n:\n",
    "        return True\n",
    "    else:\n",
    "        return False\n",
    "for i in l:\n",
    "    if palindrome(i)==True:\n",
    "        c=c+1\n",
    "c"
   ]
  },
  {
   "cell_type": "markdown",
   "id": "3a508d32",
   "metadata": {},
   "source": [
    "#### 37. replace all numbers with their sum in strings"
   ]
  },
  {
   "cell_type": "code",
   "execution_count": 659,
   "id": "4acf28ff",
   "metadata": {},
   "outputs": [
    {
     "data": {
      "text/plain": [
       "['ak3', 'ssd5', 'df7', 'qw9']"
      ]
     },
     "execution_count": 659,
     "metadata": {},
     "output_type": "execute_result"
    }
   ],
   "source": [
    "l=[\"1ak2\",\"23ssd\",\"43df\",\"1q8w\"]\n",
    "for i in range(len(l)):\n",
    "    n=list(filter(lambda x:x.isdigit(),l[i]))\n",
    "    add=sum(map(lambda x:int(x),n))\n",
    "    alp=list(filter(lambda x:x.isalpha(),l[i]))\n",
    "    l[i]=\"\".join(alp)+str(add)\n",
    "l"
   ]
  },
  {
   "cell_type": "markdown",
   "id": "8dbc5d10",
   "metadata": {},
   "source": [
    "#### 38. sort by occurences"
   ]
  },
  {
   "cell_type": "code",
   "execution_count": 671,
   "id": "af9d04fe",
   "metadata": {},
   "outputs": [
    {
     "data": {
      "text/plain": [
       "[4, 4, 4, 4, 3, 3, 3, 3, 8, 8, 8, 5, 5, 5, 1, 1, 2]"
      ]
     },
     "execution_count": 671,
     "metadata": {},
     "output_type": "execute_result"
    }
   ],
   "source": [
    "l=[1,2,3,3,3,4,4,4,5,5,8,8,8,1,5,4,3]\n",
    "l.sort(reverse=True)\n",
    "sorted(l,key=l.count,reverse=True)"
   ]
  },
  {
   "cell_type": "markdown",
   "id": "f03f140c",
   "metadata": {},
   "source": [
    "#### 39. sort by length of string"
   ]
  },
  {
   "cell_type": "code",
   "execution_count": 672,
   "id": "c9959b7b",
   "metadata": {},
   "outputs": [
    {
     "data": {
      "text/plain": [
       "['a', 'aa', 'aaa', 'aaaa']"
      ]
     },
     "execution_count": 672,
     "metadata": {},
     "output_type": "execute_result"
    }
   ],
   "source": [
    "l=[\"aa\",\"aaa\",\"aaaa\",\"a\"]\n",
    "sorted(l,key=lambda x:len(x))"
   ]
  },
  {
   "cell_type": "markdown",
   "id": "7e5d48bb",
   "metadata": {},
   "source": [
    "\n",
    "#### 40. find numbers within a given range where it is divisible by every digit it contains."
   ]
  },
  {
   "cell_type": "code",
   "execution_count": 692,
   "id": "78c9d340",
   "metadata": {},
   "outputs": [
    {
     "name": "stdout",
     "output_type": "stream",
     "text": [
      "8\n",
      "9\n",
      "11\n",
      "12\n",
      "15\n",
      "22\n"
     ]
    }
   ],
   "source": [
    "r1=8\n",
    "r2=23\n",
    "def fun(n):\n",
    "    l=list(map(lambda x:int(x),str(n)))\n",
    "    if 0 in l:\n",
    "        return False\n",
    "    l2=list(filter(lambda x:n%x==0,l))\n",
    "    if l==l2:\n",
    "        return True\n",
    "    else:\n",
    "        return False\n",
    "for i in range(r1,r2):\n",
    "    if fun(i)==True:\n",
    "        print(i)"
   ]
  },
  {
   "cell_type": "markdown",
   "id": "2a99789a",
   "metadata": {},
   "source": [
    "### <div class=\"alert alert-info\" align=\"center\">Dictionary</div>"
   ]
  },
  {
   "cell_type": "code",
   "execution_count": 711,
   "id": "c7d43b11",
   "metadata": {},
   "outputs": [
    {
     "data": {
      "text/plain": [
       "{6: 12, 7: 14, 8: 16, 9: 18, 10: 20, 11: 22}"
      ]
     },
     "execution_count": 711,
     "metadata": {},
     "output_type": "execute_result"
    }
   ],
   "source": [
    "d={i:i*2 for i in range(6,12)}\n",
    "d"
   ]
  },
  {
   "cell_type": "markdown",
   "id": "13d44c84",
   "metadata": {},
   "source": [
    "#### 1. second largest value in a dictionary"
   ]
  },
  {
   "cell_type": "code",
   "execution_count": 717,
   "id": "71653e85",
   "metadata": {},
   "outputs": [
    {
     "name": "stdout",
     "output_type": "stream",
     "text": [
      "20\n"
     ]
    }
   ],
   "source": [
    "l=sorted(d.values(),reverse=True)\n",
    "max=l[0]\n",
    "for i in l:\n",
    "    if i!=max:\n",
    "        print(i)\n",
    "        break"
   ]
  },
  {
   "cell_type": "markdown",
   "id": "95a41ead",
   "metadata": {},
   "source": [
    "#### 2. remove  key that contains duplicate values(keep first occurence)"
   ]
  },
  {
   "cell_type": "code",
   "execution_count": 725,
   "id": "896dd33d",
   "metadata": {},
   "outputs": [
    {
     "data": {
      "text/plain": [
       "{'a': 1, 'c': 2, 'd': 3}"
      ]
     },
     "execution_count": 725,
     "metadata": {},
     "output_type": "execute_result"
    }
   ],
   "source": [
    "d={\"a\":1,\"b\":1,\"c\":2,\"d\":3}\n",
    "l=[]\n",
    "for i in d.copy():\n",
    "    if d[i] in l:\n",
    "        d.pop(i)\n",
    "    else:\n",
    "        l.append(d[i])\n",
    "d"
   ]
  },
  {
   "cell_type": "markdown",
   "id": "d9c6a3ef",
   "metadata": {},
   "source": [
    "#### 3. combine two dictionary by adding values for common keys"
   ]
  },
  {
   "cell_type": "code",
   "execution_count": 755,
   "id": "d9513c23",
   "metadata": {},
   "outputs": [
    {
     "data": {
      "text/plain": [
       "{1: 198, 2: 200, 3: 300}"
      ]
     },
     "execution_count": 755,
     "metadata": {},
     "output_type": "execute_result"
    }
   ],
   "source": [
    "d1={1:100,2:200,3:300}\n",
    "d2={4:12,1:98,6:145}\n",
    "for i in d1:\n",
    "    if i in d2:\n",
    "        d1[i]+=d2[i]\n",
    "d1"
   ]
  },
  {
   "cell_type": "code",
   "execution_count": 756,
   "id": "5a412dd6",
   "metadata": {},
   "outputs": [
    {
     "data": {
      "text/plain": [
       "{4: 12, 1: 198, 6: 145, 2: 200, 3: 300}"
      ]
     },
     "execution_count": 756,
     "metadata": {},
     "output_type": "execute_result"
    }
   ],
   "source": [
    "d2|d1wh"
   ]
  },
  {
   "cell_type": "markdown",
   "id": "38f1dae0",
   "metadata": {},
   "source": [
    "#### 4. get top3 items "
   ]
  },
  {
   "cell_type": "code",
   "execution_count": 775,
   "id": "15361e82",
   "metadata": {},
   "outputs": [
    {
     "name": "stdout",
     "output_type": "stream",
     "text": [
      "{'item3': 910, 'item1': 780, 'item6': 670, 'item5': 500, 'item2': 370, 'item4': 200}\n"
     ]
    },
    {
     "data": {
      "text/plain": [
       "[910, 780, 670]"
      ]
     },
     "execution_count": 775,
     "metadata": {},
     "output_type": "execute_result"
    }
   ],
   "source": [
    "d={\"item1\":780,\"item2\":370,\"item3\":910,\"item4\":200,\"item5\":500,\"item6\":670}\n",
    "d=dict(sorted(d.items(),key=lambda x:x[1],reverse=True))\n",
    "print(d)\n",
    "list(d.values())[:3]"
   ]
  },
  {
   "cell_type": "markdown",
   "id": "6e25bf30",
   "metadata": {},
   "source": [
    "#### 5. Remove elements from dictionary whose values less than n\n"
   ]
  },
  {
   "cell_type": "code",
   "execution_count": 777,
   "id": "34ab70e6",
   "metadata": {},
   "outputs": [
    {
     "data": {
      "text/plain": [
       "{'b': 345, 'c': 123}"
      ]
     },
     "execution_count": 777,
     "metadata": {},
     "output_type": "execute_result"
    }
   ],
   "source": [
    "n=100\n",
    "d={\"a\":10,\"b\":345,\"c\":123,\"d\":56,\"e\":78}\n",
    "{i:j for i,j in d.items() if j>100}   #using dictionary comprehension"
   ]
  },
  {
   "cell_type": "code",
   "execution_count": 779,
   "id": "e717c2c2",
   "metadata": {},
   "outputs": [
    {
     "data": {
      "text/plain": [
       "{'b': 345, 'c': 123}"
      ]
     },
     "execution_count": 779,
     "metadata": {},
     "output_type": "execute_result"
    }
   ],
   "source": [
    "#using for loop,use .copy() if lenght of dictionary changes during iteration\n",
    "for i in d.copy():\n",
    "    if d[i]<100:\n",
    "        d.pop(i)\n",
    "d"
   ]
  },
  {
   "cell_type": "markdown",
   "id": "cf1b9066",
   "metadata": {},
   "source": [
    "#### 6. list of tuples into dictionary"
   ]
  },
  {
   "cell_type": "code",
   "execution_count": 781,
   "id": "7100e69b",
   "metadata": {},
   "outputs": [
    {
     "data": {
      "text/plain": [
       "{'yellow': 1, 'blue': 4, 'red': 1}"
      ]
     },
     "execution_count": 781,
     "metadata": {},
     "output_type": "execute_result"
    }
   ],
   "source": [
    "l=[('yellow', 1),('blue', 4), ('red', 1)]\n",
    "{i[0]:i[1] for i in l}"
   ]
  },
  {
   "cell_type": "code",
   "execution_count": null,
   "id": "a6afeef5",
   "metadata": {},
   "outputs": [],
   "source": [
    "#considering duplicate keys:"
   ]
  },
  {
   "cell_type": "code",
   "execution_count": 850,
   "id": "68c75052",
   "metadata": {},
   "outputs": [
    {
     "data": {
      "text/plain": [
       "{'yellow': [1, 3], 'blue': [2, 4], 'red': [1]}"
      ]
     },
     "execution_count": 850,
     "metadata": {},
     "output_type": "execute_result"
    }
   ],
   "source": [
    "l=[('yellow', 1), ('blue', 2), ('yellow', 3), ('blue', 4), ('red', 1)]\n",
    "d={}\n",
    "for i,j in l:\n",
    "    d.setdefault(i,[]).append(j)\n",
    "d"
   ]
  },
  {
   "cell_type": "markdown",
   "id": "e2b9ace2",
   "metadata": {},
   "source": [
    "#### 7. sort dictionary based on length of strings in value"
   ]
  },
  {
   "cell_type": "code",
   "execution_count": 4,
   "id": "5cecefc2",
   "metadata": {},
   "outputs": [
    {
     "data": {
      "text/plain": [
       "[(4, 'aaaa'), (2, 'aaa'), (3, 'aa'), (1, 'a')]"
      ]
     },
     "execution_count": 4,
     "metadata": {},
     "output_type": "execute_result"
    }
   ],
   "source": [
    "d={1:\"a\",2:\"aaa\",3:\"aa\",4:\"aaaa\"}\n",
    "sorted(d.items(),key=lambda x:len(x[1]),reverse=True)"
   ]
  },
  {
   "cell_type": "markdown",
   "id": "afc398b7",
   "metadata": {},
   "source": [
    "#### 8.  filter items with values having even number"
   ]
  },
  {
   "cell_type": "code",
   "execution_count": 6,
   "id": "77eba3df",
   "metadata": {},
   "outputs": [
    {
     "data": {
      "text/plain": [
       "{'b': 2, 'd': 4}"
      ]
     },
     "execution_count": 6,
     "metadata": {},
     "output_type": "execute_result"
    }
   ],
   "source": [
    "d={\"a\":1,\"b\":2,\"c\":3,\"d\":4,\"e\":5}\n",
    "{i:j for i,j in d.items() if j%2==0}"
   ]
  },
  {
   "cell_type": "markdown",
   "id": "975d3722",
   "metadata": {},
   "source": [
    "### <div class=\"alert alert-info\" align=\"center\">Strings</div>"
   ]
  },
  {
   "cell_type": "markdown",
   "id": "ea273101",
   "metadata": {},
   "source": [
    "#### 1. character frequency of a string"
   ]
  },
  {
   "cell_type": "code",
   "execution_count": 8,
   "id": "72e451a5",
   "metadata": {},
   "outputs": [
    {
     "data": {
      "text/plain": [
       "{'a': 2, 'k': 1, 's': 1, 'h': 1, 'y': 1}"
      ]
     },
     "execution_count": 8,
     "metadata": {},
     "output_type": "execute_result"
    }
   ],
   "source": [
    "s=\"akshay\"\n",
    "{i:s.count(i) for i in s}"
   ]
  },
  {
   "cell_type": "markdown",
   "id": "cf8ee535",
   "metadata": {},
   "source": [
    "#### 2. reverse each words in string"
   ]
  },
  {
   "cell_type": "code",
   "execution_count": 31,
   "id": "19bb9b0f",
   "metadata": {},
   "outputs": [
    {
     "data": {
      "text/plain": [
       "'olleh woh era uoy'"
      ]
     },
     "execution_count": 31,
     "metadata": {},
     "output_type": "execute_result"
    }
   ],
   "source": [
    "s=\"hello how are you\"\n",
    "\" \".join([i[::-1] for i in s.split(\" \")])"
   ]
  },
  {
   "cell_type": "markdown",
   "id": "03b8242d",
   "metadata": {},
   "source": [
    "#### 3. create a string from first and last alphabet of words in a string"
   ]
  },
  {
   "cell_type": "code",
   "execution_count": 46,
   "id": "376f68e9",
   "metadata": {},
   "outputs": [
    {
     "data": {
      "text/plain": [
       "'ho hw ae u be gd'"
      ]
     },
     "execution_count": 46,
     "metadata": {},
     "output_type": "execute_result"
    }
   ],
   "source": [
    "s=\"hello, how are u be good?\"\n",
    "s=\"\".join([i for i in s if i.isalpha()==True or i==\" \"])\n",
    "\" \".join([i[0]+i[-1] if len(i)!=1 else i for i in s.split()  ])"
   ]
  },
  {
   "cell_type": "markdown",
   "id": "47a598e8",
   "metadata": {},
   "source": [
    "#### 4. swap 'a' and 'z' in string"
   ]
  },
  {
   "cell_type": "code",
   "execution_count": 57,
   "id": "3cafa642",
   "metadata": {},
   "outputs": [
    {
     "data": {
      "text/plain": [
       "'zbcdazia'"
      ]
     },
     "execution_count": 57,
     "metadata": {},
     "output_type": "execute_result"
    }
   ],
   "source": [
    "s=\"abcdzaiz\"\n",
    "d={\"a\":\"z\",\"z\":\"a\"}\n",
    "t=s.maketrans(d)\n",
    "s.translate(t)"
   ]
  },
  {
   "cell_type": "markdown",
   "id": "114a8489",
   "metadata": {},
   "source": [
    "#### 5. add count of continuous occurence of character in string"
   ]
  },
  {
   "cell_type": "code",
   "execution_count": 64,
   "id": "b2c6d86a",
   "metadata": {},
   "outputs": [
    {
     "data": {
      "text/plain": [
       "'aa2r1www3z1p1'"
      ]
     },
     "execution_count": 64,
     "metadata": {},
     "output_type": "execute_result"
    }
   ],
   "source": [
    "s=\"aarwwwzp\"\n",
    "c=1\n",
    "i=0\n",
    "while True:\n",
    "    if s[i]==s[-1]:\n",
    "        s=s+str(c)\n",
    "        breaks\n",
    "    if s[i]==s[i+1]:\n",
    "        c=c+1\n",
    "    else:\n",
    "        s=s[:i+1]+str(c)+s[i+1:]\n",
    "        i=i+1\n",
    "        c=1\n",
    "    i+=1\n",
    "s"
   ]
  },
  {
   "cell_type": "code",
   "execution_count": null,
   "id": "ca0f54b1",
   "metadata": {},
   "outputs": [],
   "source": []
  },
  {
   "cell_type": "code",
   "execution_count": null,
   "id": "742d956a",
   "metadata": {},
   "outputs": [],
   "source": []
  }
 ],
 "metadata": {
  "kernelspec": {
   "display_name": "Python 3 (ipykernel)",
   "language": "python",
   "name": "python3"
  },
  "language_info": {
   "codemirror_mode": {
    "name": "ipython",
    "version": 3
   },
   "file_extension": ".py",
   "mimetype": "text/x-python",
   "name": "python",
   "nbconvert_exporter": "python",
   "pygments_lexer": "ipython3",
   "version": "3.11.4"
  }
 },
 "nbformat": 4,
 "nbformat_minor": 5
}
